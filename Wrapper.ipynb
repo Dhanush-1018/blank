{
 "cells": [
  {
   "cell_type": "code",
   "execution_count": 1,
   "id": "7bfcf290",
   "metadata": {},
   "outputs": [
    {
     "name": "stdout",
     "output_type": "stream",
     "text": [
      "Not found. The requested resource does not exist: 404\n"
     ]
    }
   ],
   "source": [
    "import requests\n",
    "\n",
    "class APIWrapper:\n",
    "    def __init__(self, base_url):\n",
    "        self.base_url = base_url\n",
    "\n",
    "    def call_api(self, token):\n",
    "        url = f\"{self.base_url}/api_endpoint\"  # Replace 'api_endpoint' with the actual endpoint\n",
    "        headers = {\n",
    "            'Authorization': f'Bearer {token}'\n",
    "        }\n",
    "        try:\n",
    "            response = requests.post(url, headers=headers)\n",
    "            if response.status_code == 200:\n",
    "                print(f\"Success! Response code: {response.status_code}\")\n",
    "                return response.json()\n",
    "            elif response.status_code == 400:\n",
    "                print(f\"Bad request. Check your input data: {response.status_code}\")\n",
    "            elif response.status_code == 401:\n",
    "                print(f\"Unauthorized. Check your token: {response.status_code}\")\n",
    "            elif response.status_code == 403:\n",
    "                print(f\"Forbidden. You don't have permission to access: {response.status_code}\")\n",
    "            elif response.status_code == 404:\n",
    "                print(f\"Not found. The requested resource does not exist: {response.status_code}\")\n",
    "            elif response.status_code == 500:\n",
    "                print(f\"Internal server error. Please try again later: {response.status_code}\")\n",
    "            else:\n",
    "                print(f\"Failed to call API. Response code: {response.status_code}\")\n",
    "        except Exception as e:\n",
    "            print(f\"An error occurred: {e}\")\n",
    "\n",
    "if __name__ == \"__main__\":\n",
    "    base_url = \"https://example.com\"  # Replace with the base URL of the API\n",
    "    api_wrapper = APIWrapper(base_url)\n",
    "    token = \"your_access_token_here\"\n",
    "    api_wrapper.call_api(token)"
   ]
  },
  {
   "cell_type": "code",
   "execution_count": null,
   "id": "5acb5e96",
   "metadata": {},
   "outputs": [],
   "source": []
  }
 ],
 "metadata": {
  "kernelspec": {
   "display_name": "Python 3 (ipykernel)",
   "language": "python",
   "name": "python3"
  },
  "language_info": {
   "codemirror_mode": {
    "name": "ipython",
    "version": 3
   },
   "file_extension": ".py",
   "mimetype": "text/x-python",
   "name": "python",
   "nbconvert_exporter": "python",
   "pygments_lexer": "ipython3",
   "version": "3.11.5"
  }
 },
 "nbformat": 4,
 "nbformat_minor": 5
}
